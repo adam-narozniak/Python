{
 "cells": [
  {
   "cell_type": "markdown",
   "id": "third-backing",
   "metadata": {},
   "source": [
    "## os module"
   ]
  },
  {
   "cell_type": "code",
   "execution_count": 11,
   "id": "turned-retirement",
   "metadata": {},
   "outputs": [],
   "source": [
    "import os"
   ]
  },
  {
   "cell_type": "markdown",
   "id": "afraid-fourth",
   "metadata": {},
   "source": [
    "how to get current directory"
   ]
  },
  {
   "cell_type": "code",
   "execution_count": 12,
   "id": "settled-monitor",
   "metadata": {},
   "outputs": [],
   "source": [
    "working_directory = os.getcwd()"
   ]
  },
  {
   "cell_type": "code",
   "execution_count": 13,
   "id": "satisfactory-reduction",
   "metadata": {},
   "outputs": [
    {
     "name": "stdout",
     "output_type": "stream",
     "text": [
      "/home/adam/Documents/ML\n"
     ]
    }
   ],
   "source": [
    "print(working_directory)"
   ]
  },
  {
   "cell_type": "markdown",
   "id": "radical-prior",
   "metadata": {},
   "source": [
    "how to list all files in current directory\n"
   ]
  },
  {
   "cell_type": "code",
   "execution_count": 16,
   "id": "indian-family",
   "metadata": {},
   "outputs": [],
   "source": [
    "list_dir = os.listdir(working_directory)"
   ]
  },
  {
   "cell_type": "markdown",
   "id": "sonic-program",
   "metadata": {},
   "source": [
    "how to make paths"
   ]
  },
  {
   "cell_type": "code",
   "execution_count": 17,
   "id": "statewide-revision",
   "metadata": {},
   "outputs": [
    {
     "data": {
      "text/plain": [
       "['my_logs_cifar10',\n",
       " 'functional_mnist_checkpoints.h5',\n",
       " 'datasets',\n",
       " 'Python for Data Analysis, 2nd Edition.pdf',\n",
       " 'CH_10.ipynb',\n",
       " 'mnist_checkpoints_with_tensorboard.h5',\n",
       " 'cifar_best_selu.h5',\n",
       " 'fashon_mnist_model.h5',\n",
       " '.ipynb_checkpoints',\n",
       " 'CH_13.ipynb',\n",
       " 'mnist_model.h5',\n",
       " 'Ch13_excercises_come_back.ipynb',\n",
       " 'my_data.tfrecord',\n",
       " 'my_logs',\n",
       " 'my_contacts.tfrecord',\n",
       " 'LearningPaths.ipynb',\n",
       " 'CH_11.ipynb',\n",
       " 'Ch_13_excercise10.ipynb',\n",
       " 'CH_12.ipynb',\n",
       " 'fashion_mnist',\n",
       " 'CH13_excercises.ipynb',\n",
       " 'Breast Cancer DS.ipynb',\n",
       " 'CH_13_excercises.ipynb',\n",
       " 'my_env',\n",
       " 'breast-cancer.csv',\n",
       " 'aclImdb']"
      ]
     },
     "execution_count": 17,
     "metadata": {},
     "output_type": "execute_result"
    }
   ],
   "source": [
    "list_dir"
   ]
  },
  {
   "cell_type": "code",
   "execution_count": 18,
   "id": "organizational-geneva",
   "metadata": {
    "scrolled": true
   },
   "outputs": [
    {
     "data": {
      "text/plain": [
       "'/home/adam/Documents/ML/aclImdb'"
      ]
     },
     "execution_count": 18,
     "metadata": {},
     "output_type": "execute_result"
    }
   ],
   "source": [
    "#let's make full path to aclImdb\n",
    "os.path.join(working_directory, list_dir[-1])"
   ]
  },
  {
   "cell_type": "markdown",
   "id": "bright-hollywood",
   "metadata": {},
   "source": [
    "## pathlib module"
   ]
  },
  {
   "cell_type": "code",
   "execution_count": 20,
   "id": "negative-flood",
   "metadata": {},
   "outputs": [],
   "source": [
    "import pathlib\n",
    "\n",
    "working_directory_pathlib = pathlib.Path.cwd()"
   ]
  },
  {
   "cell_type": "code",
   "execution_count": 26,
   "id": "convertible-works",
   "metadata": {},
   "outputs": [
    {
     "data": {
      "text/plain": [
       "PosixPath('/home/adam/Documents/ML')"
      ]
     },
     "execution_count": 26,
     "metadata": {},
     "output_type": "execute_result"
    }
   ],
   "source": [
    "working_directory_pathlib"
   ]
  },
  {
   "cell_type": "code",
   "execution_count": 28,
   "id": "official-hindu",
   "metadata": {},
   "outputs": [],
   "source": [
    "iter_dir = [x for x in working_directory_pathlib.iterdir()]"
   ]
  },
  {
   "cell_type": "code",
   "execution_count": 29,
   "id": "photographic-hughes",
   "metadata": {},
   "outputs": [
    {
     "data": {
      "text/plain": [
       "[PosixPath('/home/adam/Documents/ML/my_logs_cifar10'),\n",
       " PosixPath('/home/adam/Documents/ML/functional_mnist_checkpoints.h5'),\n",
       " PosixPath('/home/adam/Documents/ML/datasets'),\n",
       " PosixPath('/home/adam/Documents/ML/Python for Data Analysis, 2nd Edition.pdf'),\n",
       " PosixPath('/home/adam/Documents/ML/CH_10.ipynb'),\n",
       " PosixPath('/home/adam/Documents/ML/mnist_checkpoints_with_tensorboard.h5'),\n",
       " PosixPath('/home/adam/Documents/ML/cifar_best_selu.h5'),\n",
       " PosixPath('/home/adam/Documents/ML/fashon_mnist_model.h5'),\n",
       " PosixPath('/home/adam/Documents/ML/.ipynb_checkpoints'),\n",
       " PosixPath('/home/adam/Documents/ML/CH_13.ipynb'),\n",
       " PosixPath('/home/adam/Documents/ML/mnist_model.h5'),\n",
       " PosixPath('/home/adam/Documents/ML/Ch13_excercises_come_back.ipynb'),\n",
       " PosixPath('/home/adam/Documents/ML/my_data.tfrecord'),\n",
       " PosixPath('/home/adam/Documents/ML/my_logs'),\n",
       " PosixPath('/home/adam/Documents/ML/my_contacts.tfrecord'),\n",
       " PosixPath('/home/adam/Documents/ML/LearningPaths.ipynb'),\n",
       " PosixPath('/home/adam/Documents/ML/CH_11.ipynb'),\n",
       " PosixPath('/home/adam/Documents/ML/Ch_13_excercise10.ipynb'),\n",
       " PosixPath('/home/adam/Documents/ML/CH_12.ipynb'),\n",
       " PosixPath('/home/adam/Documents/ML/fashion_mnist'),\n",
       " PosixPath('/home/adam/Documents/ML/CH13_excercises.ipynb'),\n",
       " PosixPath('/home/adam/Documents/ML/Breast Cancer DS.ipynb'),\n",
       " PosixPath('/home/adam/Documents/ML/CH_13_excercises.ipynb'),\n",
       " PosixPath('/home/adam/Documents/ML/my_env'),\n",
       " PosixPath('/home/adam/Documents/ML/breast-cancer.csv'),\n",
       " PosixPath('/home/adam/Documents/ML/aclImdb')]"
      ]
     },
     "execution_count": 29,
     "metadata": {},
     "output_type": "execute_result"
    }
   ],
   "source": [
    "iter_dir"
   ]
  },
  {
   "cell_type": "code",
   "execution_count": 34,
   "id": "tracked-alaska",
   "metadata": {},
   "outputs": [
    {
     "data": {
      "text/plain": [
       "PosixPath('/home/adam/Documents/ML/aclImdb')"
      ]
     },
     "execution_count": 34,
     "metadata": {},
     "output_type": "execute_result"
    }
   ],
   "source": [
    "iter_dir[-1]"
   ]
  }
 ],
 "metadata": {
  "kernelspec": {
   "display_name": "Python 3",
   "language": "python",
   "name": "python3"
  },
  "language_info": {
   "codemirror_mode": {
    "name": "ipython",
    "version": 3
   },
   "file_extension": ".py",
   "mimetype": "text/x-python",
   "name": "python",
   "nbconvert_exporter": "python",
   "pygments_lexer": "ipython3",
   "version": "3.8.5"
  }
 },
 "nbformat": 4,
 "nbformat_minor": 5
}
